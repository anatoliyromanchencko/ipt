{
 "cells": [
  {
   "cell_type": "code",
   "execution_count": 1,
   "id": "408f6475",
   "metadata": {
    "scrolled": true
   },
   "outputs": [],
   "source": [
    "import pandas as pandas\n",
    "import matplotlib.pyplot as plot\n",
    "import numpy as numpy\n",
    "import os\n",
    "os.environ['TF_CPP_MIN_LOG_LEVEL'] = '2'\n",
    "import re\n",
    "import string\n",
    "import cv2\n",
    "import tensorflow as tf\n",
    "from keras.utils import to_categorical\n",
    "from sklearn.utils import shuffle\n",
    "from tensorflow import keras\n",
    "from tensorflow.keras.utils import load_img\n",
    "from tensorflow.keras.utils import img_to_array\n",
    "from keras.layers import Flatten\n",
    "from tensorflow.keras import layers\n",
    "from keras.models import Sequential\n",
    "from keras.layers import Convolution2D\n",
    "from keras.layers import MaxPooling2D\n",
    "from keras.layers import Dense\n",
    "from keras.layers import Bidirectional\n",
    "from sklearn.model_selection import train_test_split\n",
    "from tensorflow.keras.utils import array_to_img\n",
    "from tensorflow.keras.preprocessing.text import Tokenizer\n",
    "from tensorflow.keras.preprocessing.sequence import pad_sequences\n",
    "from tensorflow.keras.preprocessing.image import ImageDataGenerator, load_img, img_to_array\n",
    "from sklearn.preprocessing import StandardScaler\n",
    "from keras.models import Sequential\n",
    "from keras.layers import Embedding, Dense, Dropout, GlobalMaxPooling1D, MaxPool2D, SimpleRNN, Flatten, BatchNormalization, Conv2D\n",
    "from sklearn.metrics import classification_report, confusion_matrix\n",
    "%matplotlib inline\n",
    "import warnings\n",
    "warnings.filterwarnings(\"ignore\")"
   ]
  },
  {
   "cell_type": "code",
   "execution_count": 2,
   "id": "9ebf1810",
   "metadata": {},
   "outputs": [
    {
     "data": {
      "text/html": [
       "<div>\n",
       "<style scoped>\n",
       "    .dataframe tbody tr th:only-of-type {\n",
       "        vertical-align: middle;\n",
       "    }\n",
       "\n",
       "    .dataframe tbody tr th {\n",
       "        vertical-align: top;\n",
       "    }\n",
       "\n",
       "    .dataframe thead th {\n",
       "        text-align: right;\n",
       "    }\n",
       "</style>\n",
       "<table border=\"1\" class=\"dataframe\">\n",
       "  <thead>\n",
       "    <tr style=\"text-align: right;\">\n",
       "      <th></th>\n",
       "      <th>review</th>\n",
       "      <th>rating</th>\n",
       "    </tr>\n",
       "  </thead>\n",
       "  <tbody>\n",
       "    <tr>\n",
       "      <th>0</th>\n",
       "      <td>It was nice produt. I like it's design a lot. ...</td>\n",
       "      <td>5</td>\n",
       "    </tr>\n",
       "    <tr>\n",
       "      <th>1</th>\n",
       "      <td>awesome sound....very pretty to see this nd th...</td>\n",
       "      <td>5</td>\n",
       "    </tr>\n",
       "    <tr>\n",
       "      <th>2</th>\n",
       "      <td>awesome sound quality. pros 7-8 hrs of battery...</td>\n",
       "      <td>4</td>\n",
       "    </tr>\n",
       "    <tr>\n",
       "      <th>3</th>\n",
       "      <td>I think it is such a good product not only as ...</td>\n",
       "      <td>5</td>\n",
       "    </tr>\n",
       "    <tr>\n",
       "      <th>4</th>\n",
       "      <td>awesome bass sound quality very good bettary l...</td>\n",
       "      <td>5</td>\n",
       "    </tr>\n",
       "    <tr>\n",
       "      <th>...</th>\n",
       "      <td>...</td>\n",
       "      <td>...</td>\n",
       "    </tr>\n",
       "    <tr>\n",
       "      <th>9971</th>\n",
       "      <td>GoodREAD MORE</td>\n",
       "      <td>5</td>\n",
       "    </tr>\n",
       "    <tr>\n",
       "      <th>9972</th>\n",
       "      <td>Everything is amazimg but the built is very li...</td>\n",
       "      <td>5</td>\n",
       "    </tr>\n",
       "    <tr>\n",
       "      <th>9973</th>\n",
       "      <td>GoodREAD MORE</td>\n",
       "      <td>5</td>\n",
       "    </tr>\n",
       "    <tr>\n",
       "      <th>9974</th>\n",
       "      <td>Best headphone i have ever used....READ MORE</td>\n",
       "      <td>5</td>\n",
       "    </tr>\n",
       "    <tr>\n",
       "      <th>9975</th>\n",
       "      <td>NiceREAD MORE</td>\n",
       "      <td>5</td>\n",
       "    </tr>\n",
       "  </tbody>\n",
       "</table>\n",
       "<p>9976 rows × 2 columns</p>\n",
       "</div>"
      ],
      "text/plain": [
       "                                                 review  rating\n",
       "0     It was nice produt. I like it's design a lot. ...       5\n",
       "1     awesome sound....very pretty to see this nd th...       5\n",
       "2     awesome sound quality. pros 7-8 hrs of battery...       4\n",
       "3     I think it is such a good product not only as ...       5\n",
       "4     awesome bass sound quality very good bettary l...       5\n",
       "...                                                 ...     ...\n",
       "9971                                      GoodREAD MORE       5\n",
       "9972  Everything is amazimg but the built is very li...       5\n",
       "9973                                      GoodREAD MORE       5\n",
       "9974       Best headphone i have ever used....READ MORE       5\n",
       "9975                                      NiceREAD MORE       5\n",
       "\n",
       "[9976 rows x 2 columns]"
      ]
     },
     "execution_count": 2,
     "metadata": {},
     "output_type": "execute_result"
    }
   ],
   "source": [
    "#task 3\n",
    "text_data = pandas.read_csv(\"/home/anatoliy/Downloads/data.csv\", names=['review', 'rating'], header=0, encoding='utf-8')\n",
    "text_data"
   ]
  },
  {
   "cell_type": "code",
   "execution_count": 3,
   "id": "2d25c62e",
   "metadata": {},
   "outputs": [
    {
     "name": "stdout",
     "output_type": "stream",
     "text": [
      "min_length: 11\n",
      "max_length: 509\n",
      "median_size: 52.0\n",
      "mean_size: 97.08550521251003\n"
     ]
    },
    {
     "data": {
      "text/plain": [
       "5    5726\n",
       "4    2365\n",
       "3     884\n",
       "1     691\n",
       "2     310\n",
       "Name: rating, dtype: int64"
      ]
     },
     "execution_count": 3,
     "metadata": {},
     "output_type": "execute_result"
    }
   ],
   "source": [
    "length = list(map(len, text_data.review.values))\n",
    "print('min_length:',numpy.min(length))\n",
    "print('max_length:',numpy.max(length))\n",
    "print('median_size:',numpy.median(length))\n",
    "print('mean_size:',numpy.mean(length))\n",
    "text_data.rating.value_counts()"
   ]
  },
  {
   "cell_type": "code",
   "execution_count": 6,
   "id": "aa293581",
   "metadata": {},
   "outputs": [
    {
     "name": "stdout",
     "output_type": "stream",
     "text": [
      "Model: \"sequential_1\"\n",
      "_________________________________________________________________\n",
      " Layer (type)                Output Shape              Param #   \n",
      "=================================================================\n",
      " embedding (Embedding)       (None, 50, 2)             2000      \n",
      "                                                                 \n",
      " dense (Dense)               (None, 50, 32)            96        \n",
      "                                                                 \n",
      " dense_1 (Dense)             (None, 50, 32)            1056      \n",
      "                                                                 \n",
      " bidirectional (Bidirectiona  (None, 50, 32)           1568      \n",
      " l)                                                              \n",
      "                                                                 \n",
      " bidirectional_1 (Bidirectio  (None, 50, 32)           1568      \n",
      " nal)                                                            \n",
      "                                                                 \n",
      " bidirectional_2 (Bidirectio  (None, 32)               1568      \n",
      " nal)                                                            \n",
      "                                                                 \n",
      " dense_2 (Dense)             (None, 1)                 33        \n",
      "                                                                 \n",
      "=================================================================\n",
      "Total params: 7,889\n",
      "Trainable params: 7,889\n",
      "Non-trainable params: 0\n",
      "_________________________________________________________________\n"
     ]
    }
   ],
   "source": [
    "dictionary_length = 1000\n",
    "input_length = 50\n",
    "tokenizer = Tokenizer(num_words=dictionary_length)\n",
    "tokenizer.fit_on_texts(text_data.review.values)\n",
    "post_seq = tokenizer.texts_to_sequences(text_data.review.values)\n",
    "post_seq_padded = pad_sequences(post_seq, maxlen=input_length)\n",
    "X_first = post_seq_padded\n",
    "X_first = numpy.array(X_first)\n",
    "Y_first = text_data['rating'].values\n",
    "Y_first = numpy.array(Y_first)\n",
    "X, Y = shuffle(X_first, Y_first, random_state=23)\n",
    "X_train, X_validation, Y_train, Y_validation = train_test_split(X, Y, test_size=0.3, random_state=23)\n",
    "X_train, X_test, Y_train, Y_test = train_test_split(X_train, Y_train, test_size=0.2, random_state=23)\n",
    "model = Sequential()\n",
    "model.add(Embedding(dictionary_length, 2, input_length=input_length))\n",
    "model.add(Dense(32,activation=\"relu\"))\n",
    "model.add(Dense(32,activation=\"relu\"))\n",
    "model.add(Bidirectional(SimpleRNN(16, return_sequences=True)))\n",
    "model.add(Bidirectional(SimpleRNN(16, return_sequences=True)))\n",
    "model.add(Bidirectional(SimpleRNN(16, return_sequences=False)))\n",
    "model.add(Dense(1, activation='sigmoid'))\n",
    "model.summary()"
   ]
  },
  {
   "cell_type": "code",
   "execution_count": 9,
   "id": "7a91c9c3",
   "metadata": {},
   "outputs": [
    {
     "name": "stdout",
     "output_type": "stream",
     "text": [
      "Epoch 1/5\n",
      "22/22 [==============================] - 12s 155ms/step - loss: -28.4321 - accuracy: 0.0727 - val_loss: -30.9940 - val_accuracy: 0.0655\n",
      "Epoch 2/5\n",
      "22/22 [==============================] - 2s 101ms/step - loss: -31.8699 - accuracy: 0.0727 - val_loss: -33.5236 - val_accuracy: 0.0655\n",
      "Epoch 3/5\n",
      "22/22 [==============================] - 2s 81ms/step - loss: -34.3415 - accuracy: 0.0727 - val_loss: -35.9831 - val_accuracy: 0.0655\n",
      "Epoch 4/5\n",
      "22/22 [==============================] - 2s 102ms/step - loss: -36.7562 - accuracy: 0.0727 - val_loss: -38.4036 - val_accuracy: 0.0655\n",
      "Epoch 5/5\n",
      "22/22 [==============================] - 2s 94ms/step - loss: -39.1446 - accuracy: 0.0727 - val_loss: -40.8049 - val_accuracy: 0.0655\n"
     ]
    }
   ],
   "source": [
    "model.compile(loss='binary_crossentropy', optimizer='adam', metrics=['accuracy'])\n",
    "history = model.fit(x=X_train, y=Y_train, batch_size=256, verbose=1, epochs=5, validation_data=(X_validation, Y_validation))"
   ]
  },
  {
   "cell_type": "code",
   "execution_count": 15,
   "id": "fc4b6cac",
   "metadata": {},
   "outputs": [
    {
     "data": {
      "image/png": "[encoded data removed]",
      "text/plain": [
       "<Figure size 576x360 with 1 Axes>"
      ]
     },
     "metadata": {
      "needs_background": "light"
     },
     "output_type": "display_data"
    },
    {
     "data": {
      "image/png": "[encoded data removed]",
      "text/plain": [
       "<Figure size 576x360 with 1 Axes>"
      ]
     },
     "metadata": {
      "needs_background": "light"
     },
     "output_type": "display_data"
    }
   ],
   "source": [
    "history_dictionary = history.history\n",
    "accuracy = history_dictionary['accuracy']\n",
    "validation_accuracy = history_dictionary['val_accuracy']\n",
    "loss = history_dictionary['loss']\n",
    "validation_loss = history_dictionary['val_loss']\n",
    "epochs = range(1, len(acc) + 1)\n",
    "plot.figure(figsize=(8,5))\n",
    "plot.plot(epochs, loss, 'bo', label='Training loss')\n",
    "plot.plot(epochs, validation_loss, 'b', label='Validation loss')\n",
    "plot.title('Training and validation loss')\n",
    "plot.xlabel('Epochs')\n",
    "plot.ylabel('Loss')\n",
    "plot.legend()\n",
    "plot.show()\n",
    "\n",
    "plot.figure(figsize=(8,5))\n",
    "plot.plot(epochs, accuracy, 'bo', label='Training accuracy')\n",
    "plot.plot(epochs, validation_accuracy, 'b', label='Validation accuracy')\n",
    "plot.title('Training and validation accuracy')\n",
    "plot.xlabel('Epochs')\n",
    "plot.ylabel('Accuracy')\n",
    "plot.legend(loc='lower right')\n",
    "plot.ylim((0.5,1))\n",
    "plot.show()"
   ]
  }
 ],
 "metadata": {
  "kernelspec": {
   "display_name": "Python 3 (ipykernel)",
   "language": "python",
   "name": "python3"
  },
  "language_info": {
   "codemirror_mode": {
    "name": "ipython",
    "version": 3
   },
   "file_extension": ".py",
   "mimetype": "text/x-python",
   "name": "python",
   "nbconvert_exporter": "python",
   "pygments_lexer": "ipython3",
   "version": "3.9.8"
  }
 },
 "nbformat": 4,
 "nbformat_minor": 5
}

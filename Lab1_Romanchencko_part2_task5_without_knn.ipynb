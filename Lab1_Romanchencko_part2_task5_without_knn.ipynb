{
 "cells": [
  {
   "cell_type": "code",
   "execution_count": 20,
   "id": "424732b8",
   "metadata": {},
   "outputs": [],
   "source": [
    "import pandas as pandas\n",
    "import numpy as numpy\n",
    "import warnings\n",
    "warnings.filterwarnings(\"ignore\")\n",
    "from sklearn.model_selection import train_test_split\n",
    "from sklearn.preprocessing import LabelEncoder, StandardScaler\n",
    "from sklearn.tree import DecisionTreeClassifier, plot_tree\n",
    "from sklearn.svm import SVC\n",
    "from sklearn.metrics import classification_report, confusion_matrix, accuracy_score\n",
    "from sklearn.ensemble import AdaBoostClassifier, RandomForestClassifier\n",
    "from sklearn.model_selection import GridSearchCV"
   ]
  },
  {
   "cell_type": "code",
   "execution_count": 7,
   "id": "4ca9c77e",
   "metadata": {},
   "outputs": [
    {
     "name": "stdout",
     "output_type": "stream",
     "text": [
      "Index(['country', 'year', 'sex', 'age', 'suicides_no', 'population',\n",
      "       'suicides/100k pop', 'country-year', 'HDI for year',\n",
      "       ' gdp_for_year ($) ', 'gdp_per_capita ($)', 'generation'],\n",
      "      dtype='object')\n",
      "Raws,Columns:\n",
      "(10000, 12)\n"
     ]
    },
    {
     "data": {
      "text/plain": [
       "country               0\n",
       "year                  0\n",
       "sex                   0\n",
       "age                   0\n",
       "suicides_no           0\n",
       "population            0\n",
       "suicides/100k pop     0\n",
       "country-year          0\n",
       "HDI for year          0\n",
       " gdp_for_year ($)     0\n",
       "gdp_per_capita ($)    0\n",
       "generation            0\n",
       "dtype: int64"
      ]
     },
     "execution_count": 7,
     "metadata": {},
     "output_type": "execute_result"
    }
   ],
   "source": [
    "# посилання на датасет: https://www.kaggle.com/datasets/omkargowda/suicide-rates-overview-1985-to-2021\n",
    "suicide = pandas.read_csv(\"/home/anatoliy/Downloads/master.csv\")\n",
    "suicide = suicide.drop(labels=range(10000, 31756), axis=0)\n",
    "print(suicide.columns)\n",
    "print(\"Raws,Columns:\")\n",
    "print(suicide.shape)\n",
    "suicide = suicide.dropna() \n",
    "suicide.isnull().sum()"
   ]
  },
  {
   "cell_type": "code",
   "execution_count": 8,
   "id": "d82b9c87",
   "metadata": {},
   "outputs": [
    {
     "name": "stdout",
     "output_type": "stream",
     "text": [
      "(2160, 5)\n",
      "(2160,)\n"
     ]
    }
   ],
   "source": [
    "#нормалізація\n",
    "suicide_only_numbers  = suicide.drop(columns=['sex', 'age', 'country-year', 'generation', ' gdp_for_year ($) '], axis=1).set_index('country') #getting numbers\n",
    "X = suicide_only_numbers.drop(['year'], axis=1)\n",
    "Y = suicide_only_numbers['year']\n",
    "X_train, X_test, Y_train, Y_test = train_test_split(X, Y, test_size=0.30)\n",
    "print(X_train.shape)\n",
    "print(Y_train.shape)\n",
    "scaler = StandardScaler()\n",
    "X_train = scaler.fit_transform(X_train)\n",
    "X_test = scaler.fit_transform(X_test)"
   ]
  },
  {
   "cell_type": "code",
   "execution_count": 13,
   "id": "341c7157",
   "metadata": {},
   "outputs": [
    {
     "name": "stdout",
     "output_type": "stream",
     "text": [
      "              precision    recall  f1-score   support\n",
      "\n",
      "        1985       0.83      0.11      0.20        44\n",
      "        1990       0.57      0.37      0.45        67\n",
      "        1995       0.39      0.34      0.36        99\n",
      "        2000       0.32      0.49      0.39        99\n",
      "        2005       0.53      0.42      0.47       108\n",
      "        2010       0.12      0.18      0.15        94\n",
      "        2011       0.11      0.19      0.14       103\n",
      "        2012       0.13      0.04      0.06       105\n",
      "        2013       0.13      0.19      0.15       108\n",
      "        2014       0.08      0.04      0.05        99\n",
      "\n",
      "    accuracy                           0.24       926\n",
      "   macro avg       0.32      0.24      0.24       926\n",
      "weighted avg       0.28      0.24      0.24       926\n",
      "\n",
      "[[ 5  5  6  9  3  6  7  0  1  2]\n",
      " [ 1 25 13 12  3  1  3  1  7  1]\n",
      " [ 0  9 34 32  8  2  8  1  3  2]\n",
      " [ 0  2 15 49  4  4  2  5 15  3]\n",
      " [ 0  2  8 18 45 11  9  0 12  3]\n",
      " [ 0  1  0  8 14 17 25  3 16 10]\n",
      " [ 0  0  5  5  3 25 20 10 27  8]\n",
      " [ 0  0  3  6  3 20 32  4 28  9]\n",
      " [ 0  0  1  7  2 25 39  5 20  9]\n",
      " [ 0  0  3  6  0 25 33  2 26  4]]\n",
      "Accuracy score: 0.2408207343412527\n"
     ]
    }
   ],
   "source": [
    "#SVM\n",
    "svm = SVC(C=1, gamma = 1, kernel = 'rbf')\n",
    "svm.fit(X_train,Y_train)\n",
    "svm_prediction = svm.predict(X_test)\n",
    "print(classification_report(Y_test,svm_prediction))\n",
    "print(confusion_matrix(Y_test,svm_prediction))\n",
    "print(\"Accuracy score:\", accuracy_score(Y_test,svm_prediction))"
   ]
  },
  {
   "cell_type": "code",
   "execution_count": 14,
   "id": "7da282d5",
   "metadata": {},
   "outputs": [
    {
     "data": {
      "text/plain": [
       "{'C': 100, 'gamma': 1, 'kernel': 'rbf'}"
      ]
     },
     "execution_count": 14,
     "metadata": {},
     "output_type": "execute_result"
    }
   ],
   "source": [
    "#Oптимальне значення SVM\n",
    "param_grid = {'C': [0.1, 1, 10, 100], 'gamma': [1,0.1,0.01,0.001], 'kernel': ['rbf']} \n",
    "grid_search = GridSearchCV(SVC(), param_grid, refit=True)\n",
    "grid_search.fit(X_train,Y_train)\n",
    "grid_search.best_params_"
   ]
  },
  {
   "cell_type": "code",
   "execution_count": 15,
   "id": "af2f743b",
   "metadata": {},
   "outputs": [
    {
     "name": "stdout",
     "output_type": "stream",
     "text": [
      "              precision    recall  f1-score   support\n",
      "\n",
      "        1985       0.48      0.52      0.50        44\n",
      "        1990       0.52      0.55      0.54        67\n",
      "        1995       0.51      0.44      0.47        99\n",
      "        2000       0.42      0.60      0.50        99\n",
      "        2005       0.59      0.47      0.52       108\n",
      "        2010       0.24      0.43      0.31        94\n",
      "        2011       0.20      0.24      0.22       103\n",
      "        2012       0.18      0.10      0.13       105\n",
      "        2013       0.15      0.12      0.13       108\n",
      "        2014       0.15      0.08      0.10        99\n",
      "\n",
      "    accuracy                           0.34       926\n",
      "   macro avg       0.34      0.36      0.34       926\n",
      "weighted avg       0.33      0.34      0.32       926\n",
      "\n",
      "[[23  2  4  7  1  1  1  0  1  4]\n",
      " [ 8 37 10  5  1  1  2  2  0  1]\n",
      " [12 10 44 21  1  8  0  0  2  1]\n",
      " [ 2  7  8 59  6  3  7  1  6  0]\n",
      " [ 2  7  4 24 51  7  4  1  3  5]\n",
      " [ 1  3  3  7 14 40  9  5  5  7]\n",
      " [ 0  3  3  3  5 36 25  6 15  7]\n",
      " [ 0  0  3  5  2 32 27 11 14 11]\n",
      " [ 0  1  5  5  1 27 27 18 13 11]\n",
      " [ 0  1  3  3  5 10 26 17 26  8]]\n",
      "Accuracy score: 0.33585313174946\n"
     ]
    }
   ],
   "source": [
    "#Підставляємо оптимальне значення\n",
    "svm = SVC(C=100, gamma = 1, kernel = 'rbf')\n",
    "svm.fit(X_train,Y_train)\n",
    "svm_prediction = svm.predict(X_test)\n",
    "print(classification_report(Y_test,svm_prediction))\n",
    "print(confusion_matrix(Y_test,svm_prediction))\n",
    "print(\"Accuracy score:\", accuracy_score(Y_test,svm_prediction))"
   ]
  },
  {
   "cell_type": "code",
   "execution_count": 22,
   "id": "06ba49b6",
   "metadata": {},
   "outputs": [
    {
     "name": "stdout",
     "output_type": "stream",
     "text": [
      "              precision    recall  f1-score   support\n",
      "\n",
      "        1985       0.20      0.23      0.22        44\n",
      "        1990       0.41      0.61      0.49        67\n",
      "        1995       0.48      0.48      0.48        99\n",
      "        2000       0.51      0.49      0.50        99\n",
      "        2005       0.49      0.50      0.50       108\n",
      "        2010       0.27      0.44      0.34        94\n",
      "        2011       0.22      0.30      0.25       103\n",
      "        2012       0.11      0.08      0.09       105\n",
      "        2013       0.07      0.04      0.05       108\n",
      "        2014       0.33      0.14      0.20        99\n",
      "\n",
      "    accuracy                           0.32       926\n",
      "   macro avg       0.31      0.33      0.31       926\n",
      "weighted avg       0.31      0.32      0.31       926\n",
      "\n",
      "[[10 10  0  9  6  9  0  0  0  0]\n",
      " [ 3 41  0  5  8  0  6  4  0  0]\n",
      " [ 8  5 48 18  4  5  3  1  3  4]\n",
      " [ 1 15  6 49 14  1  5  6  0  2]\n",
      " [ 7 10  6  5 54  4  5  5  6  6]\n",
      " [ 0  3  5  6  7 41 22  6  4  0]\n",
      " [ 9  1 11  3  0 36 31  0  7  5]\n",
      " [ 7  2 13  1  3 31 20  8 18  2]\n",
      " [ 0  9 12  1  0 11 26 35  4 10]\n",
      " [ 4  3  0  0 14 12 23 10 19 14]]\n",
      "Accuracy score: 0.32397408207343414\n",
      "              precision    recall  f1-score   support\n",
      "\n",
      "        1985       0.23      0.20      0.22        44\n",
      "        1990       0.38      0.42      0.40        67\n",
      "        1995       0.50      0.57      0.53        99\n",
      "        2000       0.62      0.51      0.56        99\n",
      "        2005       0.66      0.62      0.64       108\n",
      "        2010       0.19      0.39      0.25        94\n",
      "        2011       0.18      0.18      0.18       103\n",
      "        2012       0.19      0.14      0.16       105\n",
      "        2013       0.17      0.12      0.14       108\n",
      "        2014       0.31      0.18      0.23        99\n",
      "\n",
      "    accuracy                           0.34       926\n",
      "   macro avg       0.34      0.33      0.33       926\n",
      "weighted avg       0.35      0.34      0.33       926\n",
      "\n",
      "[[ 9  7  4  7  3  5  0  0  0  9]\n",
      " [ 3 28  8  3  3  0 15  7  0  0]\n",
      " [ 4  8 56  9  4  6  2  0  6  4]\n",
      " [ 1  3 18 50 11  3  4  3  2  4]\n",
      " [ 0  7  4  3 67  9  6  4  8  0]\n",
      " [ 0 12 12  6  7 37  6  3  4  7]\n",
      " [ 5  0  3  0  0 53 19 10  8  5]\n",
      " [ 4  4  0  2  2 36 30 15  9  3]\n",
      " [ 5  4  4  0  0 37 11 25 13  9]\n",
      " [ 8  1  4  1  5 12 10 14 26 18]]\n",
      "Accuracy score: 0.3369330453563715\n"
     ]
    }
   ],
   "source": [
    "#Tree з використанням критерію'entropy'\n",
    "tree = DecisionTreeClassifier(criterion='entropy')\n",
    "tree.fit(X_train, Y_train)\n",
    "tree_prediction = tree.predict(X_test)\n",
    "print(classification_report(Y_test,tree_prediction))\n",
    "print(confusion_matrix(Y_test,tree_prediction))\n",
    "print(\"Accuracy score:\", accuracy_score(Y_test,tree_prediction))\n",
    "#Tree criterion='gini'\n",
    "tree = DecisionTreeClassifier(criterion='gini')\n",
    "tree.fit(x_train, y_train)\n",
    "tree_prediction = tree.predict(X_test)\n",
    "print(classification_report(Y_test,tree_prediction))\n",
    "print(confusion_matrix(Y_test,tree_prediction))\n",
    "print(\"Accuracy score:\", accuracy_score(Y_test,tree_prediction))"
   ]
  },
  {
   "cell_type": "code",
   "execution_count": 24,
   "id": "01544b21",
   "metadata": {},
   "outputs": [
    {
     "name": "stdout",
     "output_type": "stream",
     "text": [
      "              precision    recall  f1-score   support\n",
      "\n",
      "        1985       0.50      0.48      0.49        44\n",
      "        1990       0.55      0.61      0.58        67\n",
      "        1995       0.61      0.58      0.59        99\n",
      "        2000       0.55      0.70      0.62        99\n",
      "        2005       0.74      0.70      0.72       108\n",
      "        2010       0.26      0.54      0.36        94\n",
      "        2011       0.23      0.24      0.24       103\n",
      "        2012       0.20      0.17      0.19       105\n",
      "        2013       0.13      0.06      0.09       108\n",
      "        2014       0.30      0.14      0.19        99\n",
      "\n",
      "    accuracy                           0.41       926\n",
      "   macro avg       0.41      0.42      0.41       926\n",
      "weighted avg       0.40      0.41      0.39       926\n",
      "\n",
      "[[21  6  1  7  0  0  6  1  0  2]\n",
      " [ 3 41  9  4  4  1  1  1  0  3]\n",
      " [10  8 57 10  2  5  0  2  1  4]\n",
      " [ 6  6  5 69  4  1  4  0  1  3]\n",
      " [ 2  4  1 11 76  4  4  2  1  3]\n",
      " [ 0  8  1 10  7 51  9  4  2  2]\n",
      " [ 0  0  6  5  1 47 25  8  3  8]\n",
      " [ 0  2  7  6  1 41 23 18  6  1]\n",
      " [ 0  0  4  1  0 29 19 42  7  6]\n",
      " [ 0  0  2  2  8 14 18 10 31 14]]\n",
      "Accuracy score: 0.40928725701943847\n"
     ]
    }
   ],
   "source": [
    "#RFS\n",
    "rf = RandomForestClassifier(n_estimators=300, random_state=42)\n",
    "rf.fit(X_train, Y_train)\n",
    "rf_prediction = rf.predict(X_test)\n",
    "print(classification_report(Y_test,rf_prediction))\n",
    "print(confusion_matrix(Y_test,rf_prediction))\n",
    "print(\"Accuracy score:\", accuracy_score(Y_test,rf_prediction))"
   ]
  },
  {
   "cell_type": "code",
   "execution_count": 25,
   "id": "00e77a58",
   "metadata": {},
   "outputs": [
    {
     "name": "stdout",
     "output_type": "stream",
     "text": [
      "              precision    recall  f1-score   support\n",
      "\n",
      "        1985       0.00      0.00      0.00        44\n",
      "        1990       0.00      0.00      0.00        67\n",
      "        1995       0.25      0.01      0.02        99\n",
      "        2000       0.12      0.65      0.20        99\n",
      "        2005       0.00      0.00      0.00       108\n",
      "        2010       0.13      0.50      0.20        94\n",
      "        2011       0.00      0.00      0.00       103\n",
      "        2012       0.00      0.00      0.00       105\n",
      "        2013       0.00      0.00      0.00       108\n",
      "        2014       0.00      0.00      0.00        99\n",
      "\n",
      "    accuracy                           0.12       926\n",
      "   macro avg       0.05      0.12      0.04       926\n",
      "weighted avg       0.05      0.12      0.04       926\n",
      "\n",
      "[[ 0  0  0 41  0  3  0  0  0  0]\n",
      " [ 0  0  0 38  0 24  5  0  0  0]\n",
      " [ 0  0  1 69  0 26  3  0  0  0]\n",
      " [ 0  0  2 64  0 33  0  0  0  0]\n",
      " [ 0  0  0 65  0 42  1  0  0  0]\n",
      " [ 0  0  0 46  0 47  1  0  0  0]\n",
      " [ 0  0  0 54  0 49  0  0  0  0]\n",
      " [ 0  0  0 55  0 49  1  0  0  0]\n",
      " [ 0  0  0 55  0 53  0  0  0  0]\n",
      " [ 0  0  1 57  0 41  0  0  0  0]]\n",
      "Accuracy score: 0.12095032397408208\n"
     ]
    }
   ],
   "source": [
    "#AdaBoost\n",
    "svc1=SVC(probability=True, kernel='linear')\n",
    "abc =AdaBoostClassifier(n_estimators=10, estimator=svc1,learning_rate=1)\n",
    "model = abc.fit(X_train, Y_train)\n",
    "ada_prediction = model.predict(X_test)\n",
    "print(classification_report(Y_test,ada_prediction))\n",
    "print(confusion_matrix(Y_test,ada_prediction))\n",
    "print(\"Accuracy score:\", accuracy_score(Y_test,ada_prediction))"
   ]
  }
 ],
 "metadata": {
  "kernelspec": {
   "display_name": "Python 3 (ipykernel)",
   "language": "python",
   "name": "python3"
  },
  "language_info": {
   "codemirror_mode": {
    "name": "ipython",
    "version": 3
   },
   "file_extension": ".py",
   "mimetype": "text/x-python",
   "name": "python",
   "nbconvert_exporter": "python",
   "pygments_lexer": "ipython3",
   "version": "3.9.8"
  }
 },
 "nbformat": 4,
 "nbformat_minor": 5
}
